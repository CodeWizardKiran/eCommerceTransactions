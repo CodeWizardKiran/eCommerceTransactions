{
 "cells": [
  {
   "cell_type": "code",
   "execution_count": 68,
   "id": "039e21f1-98a9-4aba-805c-375298cae441",
   "metadata": {},
   "outputs": [],
   "source": [
    "# Importing necessary libraries\n",
    "# pandas: For data manipulation and analysis\n",
    "# numpy: For numerical computations\n",
    "# sklearn.metrics.pairwise: For calculating cosine similarity\n",
    "import pandas as pd\n",
    "import numpy as np\n",
    "from sklearn.metrics.pairwise import cosine_similarity\n"
   ]
  },
  {
   "cell_type": "code",
   "execution_count": 70,
   "id": "9132c8e7-c35b-43ec-bc3a-7d7ad7a8911a",
   "metadata": {},
   "outputs": [],
   "source": [
    "#Loading the Transactions dataset\n",
    "# The dataset contains CustomerID, ProductID, and Quantity columns.\n",
    "transactions = pd.read_csv('Transactions.csv')\n",
    "\n",
    "# Pivot the table to create a customer-product matrix\n",
    "# Rows: CustomerID, Columns: ProductID, Values: Quantity (filled with 0 if no purchase)\n",
    "customer_product_matrix = transactions.pivot_table(\n",
    "    index='CustomerID',\n",
    "    columns='ProductID',\n",
    "    values='Quantity',\n",
    "    fill_value=0\n",
    ")\n",
    "\n",
    "#Computing the cosine similarity matrix\n",
    "# The similarity is computed between customers based on their purchase behavior.\n",
    "similarity_matrix = cosine_similarity(customer_product_matrix)\n",
    "\n",
    "# Converting the similarity matrix to a DataFrame for easy handling\n",
    "# Rows and columns are labeled with CustomerIDs.\n",
    "similarity_scores = pd.DataFrame(\n",
    "    similarity_matrix,\n",
    "    index=customer_product_matrix.index,\n",
    "    columns=customer_product_matrix.index\n",
    ")\n"
   ]
  },
  {
   "cell_type": "code",
   "execution_count": 74,
   "id": "f6251c5e-58fd-4d2a-9e3a-35d1bf3c9733",
   "metadata": {},
   "outputs": [],
   "source": [
    "#computing lookalikes\n",
    "#Initializing an empty dictionary to store lookalike results\n",
    "lookalike_results = {}\n",
    "\n",
    "#Iterating through each customer to find their top 3 lookalikes\n",
    "for customer_id in similarity_scores.index:\n",
    "    # Getting similarity scores for the current customer\n",
    "    similarity_scores_for_customer = similarity_scores.loc[customer_id].reset_index()\n",
    "    similarity_scores_for_customer.columns = ['CustomerID', 'Score']\n",
    "    \n",
    "    # Excluding the current customer from their own similarity list\n",
    "    similarity_scores_for_customer = similarity_scores_for_customer[\n",
    "        similarity_scores_for_customer['CustomerID'] != customer_id\n",
    "    ]\n",
    "    \n",
    "    # Sorting by similarity score in descending order\n",
    "    top_lookalikes = similarity_scores_for_customer.sort_values(\n",
    "        by='Score',\n",
    "        ascending=False\n",
    "    ).head(3)\n",
    "    \n",
    "    # Storing the results as a list of tuples (CustomerID, Score)\n",
    "    lookalike_results[customer_id] = list(zip(top_lookalikes['CustomerID'], top_lookalikes['Score']))\n"
   ]
  },
  {
   "cell_type": "code",
   "execution_count": 78,
   "id": "d57fa3aa-ff33-429b-bc83-f754981055cb",
   "metadata": {},
   "outputs": [],
   "source": [
    "# Creating and Validating Lookalike Data\n",
    "# Converting the lookalike results dictionary to a DataFrame\n",
    "lookalike_df = pd.DataFrame(\n",
    "    {'CustomerID': list(lookalike_results.keys()),\n",
    "     'Lookalikes': list(lookalike_results.values())}\n",
    ")\n",
    "\n",
    "# Ensuring all required CustomerIDs (C0001 to C0020) are included\n",
    "# Creating a list of required CustomerIDs here first 20 customers\n",
    "required_customers = [f\"C{str(i).zfill(4)}\" for i in range(1, 21)]\n",
    "\n",
    "# Finding any missing CustomerIDs from the lookalike DataFrame\n",
    "existing_customers = set(lookalike_df['CustomerID'])\n",
    "missing_customers = set(required_customers) - existing_customers\n",
    "\n",
    "# Add missing customers with empty lookalikes\n",
    "for missing_customer in missing_customers:\n",
    "    lookalike_df = lookalike_df.append(\n",
    "        {\"CustomerID\": missing_customer, \"Lookalikes\": []},\n",
    "        ignore_index=True\n",
    "    )\n",
    "\n",
    "# Sortingthe DataFrame by CustomerID for consistency\n",
    "lookalike_df = lookalike_df.sort_values(by='CustomerID').reset_index(drop=True)\n"
   ]
  },
  {
   "cell_type": "code",
   "execution_count": 80,
   "id": "b8bec88f-913b-434e-97e9-f653698949e5",
   "metadata": {},
   "outputs": [
    {
     "name": "stdout",
     "output_type": "stream",
     "text": [
      "Lookalike Recommendations for First 20 Customers:\n",
      "   CustomerID                                         Lookalikes\n",
      "0       C0001  [(C0097, 0.5477225575051661), (C0194, 0.469668...\n",
      "1       C0002  [(C0091, 0.3801987652174059), (C0030, 0.372821...\n",
      "2       C0003  [(C0134, 0.5199469468957452), (C0181, 0.517597...\n",
      "3       C0004  [(C0070, 0.4988876515698588), (C0132, 0.384307...\n",
      "4       C0005  [(C0096, 0.6482037235521645), (C0055, 0.514495...\n",
      "5       C0006  [(C0058, 0.6488856845230502), (C0040, 0.580381...\n",
      "6       C0007  [(C0020, 0.5883484054145521), (C0079, 0.496138...\n",
      "7       C0008  [(C0144, 0.39223227027636803), (C0088, 0.33968...\n",
      "8       C0009  [(C0140, 0.560112033611204), (C0162, 0.5132649...\n",
      "9       C0010  [(C0033, 0.48666426339228763), (C0077, 0.42479...\n",
      "10      C0011  [(C0135, 0.4841820261350419), (C0120, 0.356820...\n",
      "11      C0012  [(C0101, 0.4437601569801833), (C0066, 0.396150...\n",
      "12      C0013  [(C0058, 0.5345224838248488), (C0040, 0.478091...\n",
      "13      C0014  [(C0128, 0.8944271909999159), (C0159, 0.784464...\n",
      "14      C0015  [(C0073, 0.6324555320336758), (C0036, 0.606779...\n",
      "15      C0016  [(C0187, 0.6449020216370241), (C0052, 0.520265...\n",
      "16      C0017  [(C0037, 0.3988620176087328), (C0071, 0.384900...\n",
      "17      C0018  [(C0177, 0.3938927711338647), (C0064, 0.356654...\n",
      "18      C0019  [(C0083, 0.48989794855663565), (C0064, 0.48799...\n",
      "19      C0020  [(C0026, 0.6172133998483676), (C0007, 0.588348...\n"
     ]
    }
   ],
   "source": [
    "#Saving and Previewing the Final Lookalike File\n",
    "# Saving the finalized Lookalike.csv file\n",
    "# This file contains CustomerID and their top 3 lookalikes with similarity scores.\n",
    "lookalike_df.to_csv(\"Lookalike.csv\", index=False)\n",
    "\n",
    "# Previewing the Lookalike DataFrame\n",
    "# Displaying the top 20 rows of the Lookalike DataFrame for validation.\n",
    "print(\"Lookalike Recommendations for First 20 Customers:\")\n",
    "print(lookalike_df.head(20))\n"
   ]
  },
  {
   "cell_type": "code",
   "execution_count": null,
   "id": "d79a4582-1755-42a1-9375-be7a7bacf8f2",
   "metadata": {},
   "outputs": [],
   "source": []
  }
 ],
 "metadata": {
  "kernelspec": {
   "display_name": "Python [conda env:base] *",
   "language": "python",
   "name": "conda-base-py"
  },
  "language_info": {
   "codemirror_mode": {
    "name": "ipython",
    "version": 3
   },
   "file_extension": ".py",
   "mimetype": "text/x-python",
   "name": "python",
   "nbconvert_exporter": "python",
   "pygments_lexer": "ipython3",
   "version": "3.12.4"
  }
 },
 "nbformat": 4,
 "nbformat_minor": 5
}
